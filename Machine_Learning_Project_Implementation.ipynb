{
  "cells": [
    {
      "cell_type": "markdown",
      "source": [
        "Import Libraries"
      ],
      "metadata": {
        "id": "Da4cXZfoT3Bj"
      }
    },
    {
      "cell_type": "code",
      "execution_count": null,
      "metadata": {
        "id": "V4oPgcaJw2f8"
      },
      "outputs": [],
      "source": [
        "import warnings\n",
        "warnings.filterwarnings('ignore')\n",
        "import pandas as pd\n",
        "import numpy as np\n",
        "import seaborn as sns\n",
        "import matplotlib.pyplot as plt\n",
        "from datetime import datetime\n",
        "from IPython.core.display import display, HTML\n",
        "import requests\n",
        "from sklearn.ensemble import RandomForestClassifier\n",
        "from sklearn.ensemble import ExtraTreesClassifier\n",
        "from sklearn.model_selection import train_test_split, KFold, cross_val_score\n",
        "from sklearn.preprocessing import StandardScaler, PolynomialFeatures\n",
        "import scipy.stats as stats\n",
        "from sklearn.neighbors import KNeighborsClassifier\n",
        "from sklearn.ensemble import ExtraTreesClassifier\n",
        "from sklearn.ensemble import GradientBoostingClassifier\n",
        "from sklearn.preprocessing import StandardScaler,MinMaxScaler\n",
        "import pickle"
      ]
    },
    {
      "cell_type": "markdown",
      "source": [
        "Explore dataset"
      ],
      "metadata": {
        "id": "grAzFE96T64n"
      }
    },
    {
      "cell_type": "code",
      "execution_count": null,
      "metadata": {
        "colab": {
          "base_uri": "https://localhost:8080/",
          "height": 590
        },
        "id": "5hGnSqzg0FaT",
        "outputId": "fd19edc4-a4d1-414c-86ce-208599c4ace5"
      },
      "outputs": [
        {
          "data": {
            "application/vnd.google.colaboratory.intrinsic+json": {
              "summary": "{\n  \"name\": \"movies_8100\",\n  \"rows\": 8100,\n  \"fields\": [\n    {\n      \"column\": \"movie title\",\n      \"properties\": {\n        \"dtype\": \"string\",\n        \"num_unique_values\": 7921,\n        \"samples\": [\n          \"Sarah Q\",\n          \"Cutoff\",\n          \"High Strung\"\n        ],\n        \"semantic_type\": \"\",\n        \"description\": \"\"\n      }\n    },\n    {\n      \"column\": \"imdb rating\",\n      \"properties\": {\n        \"dtype\": \"number\",\n        \"std\": 1.4503992212050187,\n        \"min\": 1.1,\n        \"max\": 10.0,\n        \"num_unique_values\": 90,\n        \"samples\": [\n          5.5,\n          6.9,\n          2.7\n        ],\n        \"semantic_type\": \"\",\n        \"description\": \"\"\n      }\n    },\n    {\n      \"column\": \"imdb raters\",\n      \"properties\": {\n        \"dtype\": \"number\",\n        \"std\": 107113.00168539405,\n        \"min\": 5.0,\n        \"max\": 2256087.0,\n        \"num_unique_values\": 3194,\n        \"samples\": [\n          13088.0,\n          210797.0,\n          21499.0\n        ],\n        \"semantic_type\": \"\",\n        \"description\": \"\"\n      }\n    },\n    {\n      \"column\": \"mpaa\",\n      \"properties\": {\n        \"dtype\": \"category\",\n        \"num_unique_values\": 7,\n        \"samples\": [\n          \"PG-13\",\n          \"R\",\n          \"G\"\n        ],\n        \"semantic_type\": \"\",\n        \"description\": \"\"\n      }\n    },\n    {\n      \"column\": \"genres\",\n      \"properties\": {\n        \"dtype\": \"object\",\n        \"semantic_type\": \"\",\n        \"description\": \"\"\n      }\n    },\n    {\n      \"column\": \"director\",\n      \"properties\": {\n        \"dtype\": \"string\",\n        \"num_unique_values\": 6370,\n        \"samples\": [\n          \"Jeremy Mann\",\n          \"Alex Kurtzman\",\n          \"Valeri Milev\"\n        ],\n        \"semantic_type\": \"\",\n        \"description\": \"\"\n      }\n    },\n    {\n      \"column\": \"writer\",\n      \"properties\": {\n        \"dtype\": \"string\",\n        \"num_unique_values\": 6835,\n        \"samples\": [\n          \"Sheena Brown\",\n          \"Brandon Graham\",\n          \"Lulu Wang\"\n        ],\n        \"semantic_type\": \"\",\n        \"description\": \"\"\n      }\n    },\n    {\n      \"column\": \"stars\",\n      \"properties\": {\n        \"dtype\": \"object\",\n        \"semantic_type\": \"\",\n        \"description\": \"\"\n      }\n    },\n    {\n      \"column\": \"country\",\n      \"properties\": {\n        \"dtype\": \"category\",\n        \"num_unique_values\": 75,\n        \"samples\": [\n          \"New Zealand\",\n          \"Armenia\",\n          \"France\"\n        ],\n        \"semantic_type\": \"\",\n        \"description\": \"\"\n      }\n    },\n    {\n      \"column\": \"language\",\n      \"properties\": {\n        \"dtype\": \"category\",\n        \"num_unique_values\": 46,\n        \"samples\": [\n          \"Kannada\",\n          \"Greek\",\n          \"Danish\"\n        ],\n        \"semantic_type\": \"\",\n        \"description\": \"\"\n      }\n    },\n    {\n      \"column\": \"release date\",\n      \"properties\": {\n        \"dtype\": \"date\",\n        \"min\": \"2000-05-05 00:00:00\",\n        \"max\": \"2021-06-18 00:00:00\",\n        \"num_unique_values\": 1776,\n        \"samples\": [\n          \"2020-04-25\",\n          \"2017-12-28\",\n          \"2010-02-19\"\n        ],\n        \"semantic_type\": \"\",\n        \"description\": \"\"\n      }\n    },\n    {\n      \"column\": \"budget\",\n      \"properties\": {\n        \"dtype\": \"number\",\n        \"std\": 41844238.76642193,\n        \"min\": 0.0,\n        \"max\": 356000000.0,\n        \"num_unique_values\": 384,\n        \"samples\": [\n          22000.0,\n          2050000.0,\n          13100000.0\n        ],\n        \"semantic_type\": \"\",\n        \"description\": \"\"\n      }\n    },\n    {\n      \"column\": \"opening weekend\",\n      \"properties\": {\n        \"dtype\": \"number\",\n        \"std\": 31417746.87415821,\n        \"min\": 10.0,\n        \"max\": 357115007.0,\n        \"num_unique_values\": 1498,\n        \"samples\": [\n          14136.0,\n          2515.0,\n          29245.0\n        ],\n        \"semantic_type\": \"\",\n        \"description\": \"\"\n      }\n    },\n    {\n      \"column\": \"gross usa\",\n      \"properties\": {\n        \"dtype\": \"number\",\n        \"std\": 93955991.0329798,\n        \"min\": 252.0,\n        \"max\": 936662225.0,\n        \"num_unique_values\": 1597,\n        \"samples\": [\n          2000105.0,\n          172558876.0,\n          46083.0\n        ],\n        \"semantic_type\": \"\",\n        \"description\": \"\"\n      }\n    },\n    {\n      \"column\": \"cumulative worldwide\",\n      \"properties\": {\n        \"dtype\": \"number\",\n        \"std\": 226259522.874608,\n        \"min\": 51.0,\n        \"max\": 2797800564.0,\n        \"num_unique_values\": 2163,\n        \"samples\": [\n          6877.0,\n          19676514.0,\n          5725482.0\n        ],\n        \"semantic_type\": \"\",\n        \"description\": \"\"\n      }\n    },\n    {\n      \"column\": \"production companies\",\n      \"properties\": {\n        \"dtype\": \"object\",\n        \"semantic_type\": \"\",\n        \"description\": \"\"\n      }\n    },\n    {\n      \"column\": \"runtime (min)\",\n      \"properties\": {\n        \"dtype\": \"number\",\n        \"std\": 18.409278247552123,\n        \"min\": 15.0,\n        \"max\": 653.0,\n        \"num_unique_values\": 135,\n        \"samples\": [\n          50.0,\n          174.0,\n          150.0\n        ],\n        \"semantic_type\": \"\",\n        \"description\": \"\"\n      }\n    }\n  ]\n}",
              "type": "dataframe",
              "variable_name": "movies_8100"
            },
            "text/html": [
              "\n",
              "  <div id=\"df-231b92c3-3ac6-44dc-9843-07cb02249e51\" class=\"colab-df-container\">\n",
              "    <div>\n",
              "<style scoped>\n",
              "    .dataframe tbody tr th:only-of-type {\n",
              "        vertical-align: middle;\n",
              "    }\n",
              "\n",
              "    .dataframe tbody tr th {\n",
              "        vertical-align: top;\n",
              "    }\n",
              "\n",
              "    .dataframe thead th {\n",
              "        text-align: right;\n",
              "    }\n",
              "</style>\n",
              "<table border=\"1\" class=\"dataframe\">\n",
              "  <thead>\n",
              "    <tr style=\"text-align: right;\">\n",
              "      <th></th>\n",
              "      <th>movie title</th>\n",
              "      <th>imdb rating</th>\n",
              "      <th>imdb raters</th>\n",
              "      <th>mpaa</th>\n",
              "      <th>genres</th>\n",
              "      <th>director</th>\n",
              "      <th>writer</th>\n",
              "      <th>stars</th>\n",
              "      <th>country</th>\n",
              "      <th>language</th>\n",
              "      <th>release date</th>\n",
              "      <th>budget</th>\n",
              "      <th>opening weekend</th>\n",
              "      <th>gross usa</th>\n",
              "      <th>cumulative worldwide</th>\n",
              "      <th>production companies</th>\n",
              "      <th>runtime (min)</th>\n",
              "    </tr>\n",
              "  </thead>\n",
              "  <tbody>\n",
              "    <tr>\n",
              "      <th>0</th>\n",
              "      <td>Mulan</td>\n",
              "      <td>5.4</td>\n",
              "      <td>57966.0</td>\n",
              "      <td>PG-13</td>\n",
              "      <td>[Action, Adventure, Drama, Family]</td>\n",
              "      <td>Niki Caro</td>\n",
              "      <td>Rick Jaffa</td>\n",
              "      <td>[Yifei Liu, Donnie Yen, Li Gong]</td>\n",
              "      <td>USA</td>\n",
              "      <td>English</td>\n",
              "      <td>2020-09-04</td>\n",
              "      <td>200000000.0</td>\n",
              "      <td>NaN</td>\n",
              "      <td>NaN</td>\n",
              "      <td>66800000.0</td>\n",
              "      <td>[Walt Disney Pictures, Jason T. Reed Productio...</td>\n",
              "      <td>115.0</td>\n",
              "    </tr>\n",
              "    <tr>\n",
              "      <th>1</th>\n",
              "      <td>The Invisible Man</td>\n",
              "      <td>7.1</td>\n",
              "      <td>136012.0</td>\n",
              "      <td>R</td>\n",
              "      <td>[Horror, Mystery, Sci-Fi, Thriller]</td>\n",
              "      <td>Leigh Whannell</td>\n",
              "      <td>Leigh Whannell</td>\n",
              "      <td>[Elisabeth Moss, Oliver Jackson-Cohen, Harriet...</td>\n",
              "      <td>Canada</td>\n",
              "      <td>English</td>\n",
              "      <td>2020-02-28</td>\n",
              "      <td>7000000.0</td>\n",
              "      <td>28205665.0</td>\n",
              "      <td>64914050.0</td>\n",
              "      <td>130722137.0</td>\n",
              "      <td>[Universal Pictures, Blumhouse Productions, Go...</td>\n",
              "      <td>124.0</td>\n",
              "    </tr>\n",
              "    <tr>\n",
              "      <th>2</th>\n",
              "      <td>On the Basis of Sex</td>\n",
              "      <td>7.1</td>\n",
              "      <td>23877.0</td>\n",
              "      <td>PG-13</td>\n",
              "      <td>[Biography, Drama]</td>\n",
              "      <td>Mimi Leder</td>\n",
              "      <td>Daniel Stiepleman</td>\n",
              "      <td>[Felicity Jones, Armie Hammer, Justin Theroux]</td>\n",
              "      <td>USA</td>\n",
              "      <td>English</td>\n",
              "      <td>2019-01-11</td>\n",
              "      <td>20000000.0</td>\n",
              "      <td>686355.0</td>\n",
              "      <td>24704837.0</td>\n",
              "      <td>38755900.0</td>\n",
              "      <td>[Alibaba Pictures, Amblin Partners, DreamWorks]</td>\n",
              "      <td>120.0</td>\n",
              "    </tr>\n",
              "    <tr>\n",
              "      <th>3</th>\n",
              "      <td>The Gentlemen</td>\n",
              "      <td>7.9</td>\n",
              "      <td>188297.0</td>\n",
              "      <td>R</td>\n",
              "      <td>[Action, Comedy, Crime]</td>\n",
              "      <td>Guy Ritchie</td>\n",
              "      <td>Guy Ritchie</td>\n",
              "      <td>[Matthew McConaughey, Charlie Hunnam, Michelle...</td>\n",
              "      <td>UK</td>\n",
              "      <td>English</td>\n",
              "      <td>2020-01-24</td>\n",
              "      <td>22000000.0</td>\n",
              "      <td>10651884.0</td>\n",
              "      <td>36471795.0</td>\n",
              "      <td>115171795.0</td>\n",
              "      <td>[STX Films, Miramax, Toff Guy Films]</td>\n",
              "      <td>113.0</td>\n",
              "    </tr>\n",
              "    <tr>\n",
              "      <th>4</th>\n",
              "      <td>Knives Out</td>\n",
              "      <td>7.9</td>\n",
              "      <td>394738.0</td>\n",
              "      <td>PG-13</td>\n",
              "      <td>[Comedy, Crime, Drama, Mystery, Thriller]</td>\n",
              "      <td>Rian Johnson</td>\n",
              "      <td>Rian Johnson</td>\n",
              "      <td>[Daniel Craig, Chris Evans, Ana de Armas]</td>\n",
              "      <td>USA</td>\n",
              "      <td>English</td>\n",
              "      <td>2019-11-27</td>\n",
              "      <td>40000000.0</td>\n",
              "      <td>26769548.0</td>\n",
              "      <td>165363234.0</td>\n",
              "      <td>309232797.0</td>\n",
              "      <td>[Lionsgate, Media Rights Capital (MRC), T-Street]</td>\n",
              "      <td>130.0</td>\n",
              "    </tr>\n",
              "  </tbody>\n",
              "</table>\n",
              "</div>\n",
              "    <div class=\"colab-df-buttons\">\n",
              "\n",
              "  <div class=\"colab-df-container\">\n",
              "    <button class=\"colab-df-convert\" onclick=\"convertToInteractive('df-231b92c3-3ac6-44dc-9843-07cb02249e51')\"\n",
              "            title=\"Convert this dataframe to an interactive table.\"\n",
              "            style=\"display:none;\">\n",
              "\n",
              "  <svg xmlns=\"http://www.w3.org/2000/svg\" height=\"24px\" viewBox=\"0 -960 960 960\">\n",
              "    <path d=\"M120-120v-720h720v720H120Zm60-500h600v-160H180v160Zm220 220h160v-160H400v160Zm0 220h160v-160H400v160ZM180-400h160v-160H180v160Zm440 0h160v-160H620v160ZM180-180h160v-160H180v160Zm440 0h160v-160H620v160Z\"/>\n",
              "  </svg>\n",
              "    </button>\n",
              "\n",
              "  <style>\n",
              "    .colab-df-container {\n",
              "      display:flex;\n",
              "      gap: 12px;\n",
              "    }\n",
              "\n",
              "    .colab-df-convert {\n",
              "      background-color: #E8F0FE;\n",
              "      border: none;\n",
              "      border-radius: 50%;\n",
              "      cursor: pointer;\n",
              "      display: none;\n",
              "      fill: #1967D2;\n",
              "      height: 32px;\n",
              "      padding: 0 0 0 0;\n",
              "      width: 32px;\n",
              "    }\n",
              "\n",
              "    .colab-df-convert:hover {\n",
              "      background-color: #E2EBFA;\n",
              "      box-shadow: 0px 1px 2px rgba(60, 64, 67, 0.3), 0px 1px 3px 1px rgba(60, 64, 67, 0.15);\n",
              "      fill: #174EA6;\n",
              "    }\n",
              "\n",
              "    .colab-df-buttons div {\n",
              "      margin-bottom: 4px;\n",
              "    }\n",
              "\n",
              "    [theme=dark] .colab-df-convert {\n",
              "      background-color: #3B4455;\n",
              "      fill: #D2E3FC;\n",
              "    }\n",
              "\n",
              "    [theme=dark] .colab-df-convert:hover {\n",
              "      background-color: #434B5C;\n",
              "      box-shadow: 0px 1px 3px 1px rgba(0, 0, 0, 0.15);\n",
              "      filter: drop-shadow(0px 1px 2px rgba(0, 0, 0, 0.3));\n",
              "      fill: #FFFFFF;\n",
              "    }\n",
              "  </style>\n",
              "\n",
              "    <script>\n",
              "      const buttonEl =\n",
              "        document.querySelector('#df-231b92c3-3ac6-44dc-9843-07cb02249e51 button.colab-df-convert');\n",
              "      buttonEl.style.display =\n",
              "        google.colab.kernel.accessAllowed ? 'block' : 'none';\n",
              "\n",
              "      async function convertToInteractive(key) {\n",
              "        const element = document.querySelector('#df-231b92c3-3ac6-44dc-9843-07cb02249e51');\n",
              "        const dataTable =\n",
              "          await google.colab.kernel.invokeFunction('convertToInteractive',\n",
              "                                                    [key], {});\n",
              "        if (!dataTable) return;\n",
              "\n",
              "        const docLinkHtml = 'Like what you see? Visit the ' +\n",
              "          '<a target=\"_blank\" href=https://colab.research.google.com/notebooks/data_table.ipynb>data table notebook</a>'\n",
              "          + ' to learn more about interactive tables.';\n",
              "        element.innerHTML = '';\n",
              "        dataTable['output_type'] = 'display_data';\n",
              "        await google.colab.output.renderOutput(dataTable, element);\n",
              "        const docLink = document.createElement('div');\n",
              "        docLink.innerHTML = docLinkHtml;\n",
              "        element.appendChild(docLink);\n",
              "      }\n",
              "    </script>\n",
              "  </div>\n",
              "\n",
              "\n",
              "<div id=\"df-05798ba8-461d-4895-9d41-62e5df7513dc\">\n",
              "  <button class=\"colab-df-quickchart\" onclick=\"quickchart('df-05798ba8-461d-4895-9d41-62e5df7513dc')\"\n",
              "            title=\"Suggest charts\"\n",
              "            style=\"display:none;\">\n",
              "\n",
              "<svg xmlns=\"http://www.w3.org/2000/svg\" height=\"24px\"viewBox=\"0 0 24 24\"\n",
              "     width=\"24px\">\n",
              "    <g>\n",
              "        <path d=\"M19 3H5c-1.1 0-2 .9-2 2v14c0 1.1.9 2 2 2h14c1.1 0 2-.9 2-2V5c0-1.1-.9-2-2-2zM9 17H7v-7h2v7zm4 0h-2V7h2v10zm4 0h-2v-4h2v4z\"/>\n",
              "    </g>\n",
              "</svg>\n",
              "  </button>\n",
              "\n",
              "<style>\n",
              "  .colab-df-quickchart {\n",
              "      --bg-color: #E8F0FE;\n",
              "      --fill-color: #1967D2;\n",
              "      --hover-bg-color: #E2EBFA;\n",
              "      --hover-fill-color: #174EA6;\n",
              "      --disabled-fill-color: #AAA;\n",
              "      --disabled-bg-color: #DDD;\n",
              "  }\n",
              "\n",
              "  [theme=dark] .colab-df-quickchart {\n",
              "      --bg-color: #3B4455;\n",
              "      --fill-color: #D2E3FC;\n",
              "      --hover-bg-color: #434B5C;\n",
              "      --hover-fill-color: #FFFFFF;\n",
              "      --disabled-bg-color: #3B4455;\n",
              "      --disabled-fill-color: #666;\n",
              "  }\n",
              "\n",
              "  .colab-df-quickchart {\n",
              "    background-color: var(--bg-color);\n",
              "    border: none;\n",
              "    border-radius: 50%;\n",
              "    cursor: pointer;\n",
              "    display: none;\n",
              "    fill: var(--fill-color);\n",
              "    height: 32px;\n",
              "    padding: 0;\n",
              "    width: 32px;\n",
              "  }\n",
              "\n",
              "  .colab-df-quickchart:hover {\n",
              "    background-color: var(--hover-bg-color);\n",
              "    box-shadow: 0 1px 2px rgba(60, 64, 67, 0.3), 0 1px 3px 1px rgba(60, 64, 67, 0.15);\n",
              "    fill: var(--button-hover-fill-color);\n",
              "  }\n",
              "\n",
              "  .colab-df-quickchart-complete:disabled,\n",
              "  .colab-df-quickchart-complete:disabled:hover {\n",
              "    background-color: var(--disabled-bg-color);\n",
              "    fill: var(--disabled-fill-color);\n",
              "    box-shadow: none;\n",
              "  }\n",
              "\n",
              "  .colab-df-spinner {\n",
              "    border: 2px solid var(--fill-color);\n",
              "    border-color: transparent;\n",
              "    border-bottom-color: var(--fill-color);\n",
              "    animation:\n",
              "      spin 1s steps(1) infinite;\n",
              "  }\n",
              "\n",
              "  @keyframes spin {\n",
              "    0% {\n",
              "      border-color: transparent;\n",
              "      border-bottom-color: var(--fill-color);\n",
              "      border-left-color: var(--fill-color);\n",
              "    }\n",
              "    20% {\n",
              "      border-color: transparent;\n",
              "      border-left-color: var(--fill-color);\n",
              "      border-top-color: var(--fill-color);\n",
              "    }\n",
              "    30% {\n",
              "      border-color: transparent;\n",
              "      border-left-color: var(--fill-color);\n",
              "      border-top-color: var(--fill-color);\n",
              "      border-right-color: var(--fill-color);\n",
              "    }\n",
              "    40% {\n",
              "      border-color: transparent;\n",
              "      border-right-color: var(--fill-color);\n",
              "      border-top-color: var(--fill-color);\n",
              "    }\n",
              "    60% {\n",
              "      border-color: transparent;\n",
              "      border-right-color: var(--fill-color);\n",
              "    }\n",
              "    80% {\n",
              "      border-color: transparent;\n",
              "      border-right-color: var(--fill-color);\n",
              "      border-bottom-color: var(--fill-color);\n",
              "    }\n",
              "    90% {\n",
              "      border-color: transparent;\n",
              "      border-bottom-color: var(--fill-color);\n",
              "    }\n",
              "  }\n",
              "</style>\n",
              "\n",
              "  <script>\n",
              "    async function quickchart(key) {\n",
              "      const quickchartButtonEl =\n",
              "        document.querySelector('#' + key + ' button');\n",
              "      quickchartButtonEl.disabled = true;  // To prevent multiple clicks.\n",
              "      quickchartButtonEl.classList.add('colab-df-spinner');\n",
              "      try {\n",
              "        const charts = await google.colab.kernel.invokeFunction(\n",
              "            'suggestCharts', [key], {});\n",
              "      } catch (error) {\n",
              "        console.error('Error during call to suggestCharts:', error);\n",
              "      }\n",
              "      quickchartButtonEl.classList.remove('colab-df-spinner');\n",
              "      quickchartButtonEl.classList.add('colab-df-quickchart-complete');\n",
              "    }\n",
              "    (() => {\n",
              "      let quickchartButtonEl =\n",
              "        document.querySelector('#df-05798ba8-461d-4895-9d41-62e5df7513dc button');\n",
              "      quickchartButtonEl.style.display =\n",
              "        google.colab.kernel.accessAllowed ? 'block' : 'none';\n",
              "    })();\n",
              "  </script>\n",
              "</div>\n",
              "    </div>\n",
              "  </div>\n"
            ],
            "text/plain": [
              "           movie title  imdb rating  imdb raters   mpaa  \\\n",
              "0                Mulan          5.4      57966.0  PG-13   \n",
              "1    The Invisible Man          7.1     136012.0      R   \n",
              "2  On the Basis of Sex          7.1      23877.0  PG-13   \n",
              "3        The Gentlemen          7.9     188297.0      R   \n",
              "4           Knives Out          7.9     394738.0  PG-13   \n",
              "\n",
              "                                      genres        director  \\\n",
              "0         [Action, Adventure, Drama, Family]       Niki Caro   \n",
              "1        [Horror, Mystery, Sci-Fi, Thriller]  Leigh Whannell   \n",
              "2                         [Biography, Drama]      Mimi Leder   \n",
              "3                    [Action, Comedy, Crime]     Guy Ritchie   \n",
              "4  [Comedy, Crime, Drama, Mystery, Thriller]    Rian Johnson   \n",
              "\n",
              "              writer                                              stars  \\\n",
              "0         Rick Jaffa                   [Yifei Liu, Donnie Yen, Li Gong]   \n",
              "1     Leigh Whannell  [Elisabeth Moss, Oliver Jackson-Cohen, Harriet...   \n",
              "2  Daniel Stiepleman     [Felicity Jones, Armie Hammer, Justin Theroux]   \n",
              "3        Guy Ritchie  [Matthew McConaughey, Charlie Hunnam, Michelle...   \n",
              "4       Rian Johnson          [Daniel Craig, Chris Evans, Ana de Armas]   \n",
              "\n",
              "  country language release date       budget  opening weekend    gross usa  \\\n",
              "0     USA  English   2020-09-04  200000000.0              NaN          NaN   \n",
              "1  Canada  English   2020-02-28    7000000.0       28205665.0   64914050.0   \n",
              "2     USA  English   2019-01-11   20000000.0         686355.0   24704837.0   \n",
              "3      UK  English   2020-01-24   22000000.0       10651884.0   36471795.0   \n",
              "4     USA  English   2019-11-27   40000000.0       26769548.0  165363234.0   \n",
              "\n",
              "   cumulative worldwide                               production companies  \\\n",
              "0            66800000.0  [Walt Disney Pictures, Jason T. Reed Productio...   \n",
              "1           130722137.0  [Universal Pictures, Blumhouse Productions, Go...   \n",
              "2            38755900.0    [Alibaba Pictures, Amblin Partners, DreamWorks]   \n",
              "3           115171795.0               [STX Films, Miramax, Toff Guy Films]   \n",
              "4           309232797.0  [Lionsgate, Media Rights Capital (MRC), T-Street]   \n",
              "\n",
              "   runtime (min)  \n",
              "0          115.0  \n",
              "1          124.0  \n",
              "2          120.0  \n",
              "3          113.0  \n",
              "4          130.0  "
            ]
          },
          "execution_count": 29,
          "metadata": {},
          "output_type": "execute_result"
        }
      ],
      "source": [
        "movies_8000 = pd.DataFrame(pd.read_pickle('/content/drive/MyDrive/IMDb_8000.pickle'))\n",
        "df1 = pd.DataFrame(pd.read_pickle('/content/drive/MyDrive/IMDb_top_movies.pickle'))\n",
        "df2 = pd.DataFrame(pd.read_pickle('/content/drive/MyDrive/IMDb_top_2000s.pickle'))\n",
        "movies_8100 = pd.concat([movies_8000,df1,df2])\n",
        "movies_8100.head()"
      ]
    },
    {
      "cell_type": "markdown",
      "source": [
        "Clean dataset"
      ],
      "metadata": {
        "id": "KCswWUjdT_Eo"
      }
    },
    {
      "cell_type": "code",
      "execution_count": null,
      "metadata": {
        "id": "FDTm6SIe1W9x"
      },
      "outputs": [],
      "source": [
        "movies_8100 = movies_8100.drop(['runtime (min)','opening weekend','writer','country','language','opening weekend','gross usa'],axis=1)\n"
      ]
    },
    {
      "cell_type": "code",
      "execution_count": null,
      "metadata": {
        "id": "i_yfcKlN1jAM"
      },
      "outputs": [],
      "source": [
        "movies_df = movies_8100.copy()\n",
        "movies_df.drop_duplicates(subset=['movie title'],inplace=True)\n",
        "# Copy the original dataframe to mess with the data more freely\n",
        "movies_df.set_index('movie title',inplace=True)\n",
        "movies_df_drop = movies_df.dropna(subset=['budget'])"
      ]
    },
    {
      "cell_type": "code",
      "execution_count": null,
      "metadata": {
        "id": "9VygV7H41ncs"
      },
      "outputs": [],
      "source": [
        "movie_drop2 = movies_df_drop[movies_df_drop['imdb rating'].notna()]\n",
        "movie_drop2 = movies_df_drop[movies_df_drop['mpaa'].notna()]\n",
        "# Drop movies without a rating"
      ]
    },
    {
      "cell_type": "code",
      "execution_count": null,
      "metadata": {
        "id": "onmkEOV71qvI"
      },
      "outputs": [],
      "source": [
        "movie_drop2 = movie_drop2[movie_drop2['imdb raters'] >= 10000]\n",
        "# Remove movies with less than 1,000 raters for better validity in ratings\n",
        "movie_drop2 = movie_drop2[movie_drop2['budget'] >= 10000]\n",
        "# Remove movies with less than a $1,000 budget to focus model"
      ]
    },
    {
      "cell_type": "markdown",
      "source": [
        "Extract the feaatures we want from the original dataset\n"
      ],
      "metadata": {
        "id": "_2qxNKVtUGS0"
      }
    },
    {
      "cell_type": "markdown",
      "source": [
        "Feature: MPAA"
      ],
      "metadata": {
        "id": "_ez483SBUJR0"
      }
    },
    {
      "cell_type": "code",
      "execution_count": null,
      "metadata": {
        "id": "GvlplinA17U0"
      },
      "outputs": [],
      "source": [
        "mpaa_df = pd.get_dummies(movie_drop2['mpaa'])\n",
        "# Get dummy variables for MPAA ratings\n",
        "df_added_mpaa_dummies = pd.concat([movie_drop2,mpaa_df], axis=1)\n",
        "# Add them to the rest of the data\n",
        "df_added_mpaa_dummies = df_added_mpaa_dummies.drop('mpaa',axis=1)\n",
        "df_added_mpaa_dummies = df_added_mpaa_dummies.drop(['Not Rated','Unrated'],axis=1)"
      ]
    },
    {
      "cell_type": "markdown",
      "source": [
        "Feature: Genre"
      ],
      "metadata": {
        "id": "hGwUxJfTUMG0"
      }
    },
    {
      "cell_type": "code",
      "execution_count": null,
      "metadata": {
        "id": "zyEty0Bd18rD"
      },
      "outputs": [],
      "source": [
        "df_genres_added = pd.Series(df_added_mpaa_dummies['genres'])\n",
        "df_genres_added = pd.get_dummies(df_genres_added.apply(pd.Series).stack()).sum()\n",
        "# Turns genres into dummy variables\n",
        "df_genres_mpaa = pd.concat([df_added_mpaa_dummies, df_genres_added], axis=1)\n",
        "df_genres_mpaa = df_genres_mpaa.drop('genres',axis=1)\n",
        "df_genres_mpaa = df_genres_mpaa.drop('imdb raters',axis=1)"
      ]
    },
    {
      "cell_type": "markdown",
      "source": [
        "Feature: Director"
      ],
      "metadata": {
        "id": "1ndou-nWUMy3"
      }
    },
    {
      "cell_type": "code",
      "execution_count": null,
      "metadata": {
        "id": "_t-EeBAN2LbD"
      },
      "outputs": [],
      "source": [
        "empty_dir = movie_drop2[movie_drop2['director']==''].index.values.tolist()\n",
        "dir_fill = [\n",
        "    'Peter Ramsey, Bob Persichetti, Rodney Rothman',\n",
        "    'Ron Clements, John Musker',\n",
        "    'Byron Howard, Rich Moore',\n",
        "    'Pierre Coffin, Chris Renaud',\n",
        "    'Charlie Bean, Bob Logan, Paul Fisher',\n",
        "    'Frank Miller, Quentin Tarantino, Robert Rodriguez',\n",
        "    'Dan Scanlon, Saschka Unseld'\n",
        "    ]\n",
        "for num, movie in enumerate(empty_dir):\n",
        "    movie_drop2['director'][movie] = dir_fill[num]\n",
        "# Run through the empty directors and fill with added info"
      ]
    },
    {
      "cell_type": "code",
      "execution_count": null,
      "metadata": {
        "id": "qMVT0OFV2QOz"
      },
      "outputs": [],
      "source": [
        "def directors_list(directors):\n",
        "    \"\"\"\n",
        "    Separates a string of directors into a list of the separate directors.\n",
        "    Args:\n",
        "        directors: A string of directors separated by commas\n",
        "    Returns:\n",
        "        A list of directors.\n",
        "    \"\"\"\n",
        "    if \",\" in directors:\n",
        "        return [name.strip() for name in directors.split(\",\")]\n",
        "    else:\n",
        "        return [directors]\n",
        "\n",
        "\n",
        "def remove_paren(directors):\n",
        "    \"\"\"\n",
        "    Takes off aliases that are in parentheses next to a director's name\n",
        "    Args:\n",
        "        directors: A list of directors\n",
        "    Returns:\n",
        "        The same list of directors, but without aliases in parenthesis.\n",
        "    \"\"\"\n",
        "    dir_list = []\n",
        "    for director in directors:\n",
        "        if \"(\" in director:\n",
        "            dir_clean = director.split(\"(\")[0].strip()\n",
        "            dir_list.append(dir_clean)\n",
        "        else:\n",
        "            dir_list.append(director)\n",
        "    return dir_list"
      ]
    },
    {
      "cell_type": "code",
      "execution_count": null,
      "metadata": {
        "id": "qBJFHgVj2Xhi"
      },
      "outputs": [],
      "source": [
        "movie_drop2['director'] = movie_drop2['director'].apply(lambda x: directors_list(x))\n",
        "movie_drop2['director'] = movie_drop2['director'].apply(lambda x: remove_paren(x))\n"
      ]
    },
    {
      "cell_type": "code",
      "execution_count": null,
      "metadata": {
        "id": "IwPrGK8p2cfh"
      },
      "outputs": [],
      "source": [
        "df_dir_exploded = movie_drop2.explode('director')\n",
        "dir_10 = df_dir_exploded['director'].value_counts()[:10].index.tolist()\n",
        "def top_directors(directors):\n",
        "    dir_list = []\n",
        "    for director in directors:\n",
        "        if director in dir_10:\n",
        "            dir_list.append(director)\n",
        "    return dir_list\n",
        "# Create a function to select top directors and create new columns\n",
        "# This will let us create dummy variables just for top directors\n",
        "\n",
        "movie_drop2['top'] = movie_drop2['director'].apply(lambda x: top_directors(x))\n",
        "# Apply that function to create a new column\n",
        "dir_df = pd.get_dummies(movie_drop2['top'].apply(pd.Series).stack()).sum()\n",
        "# Get dummies for the top directors\n",
        "df_dir_model = pd.concat([df_genres_mpaa, dir_df], axis=1)\n",
        "# Merge dummies with model DataFrame\n",
        "df_dir_model.replace(np.nan,0,inplace=True)"
      ]
    },
    {
      "cell_type": "markdown",
      "source": [
        "Feature: Stars"
      ],
      "metadata": {
        "id": "J21rznfAUTwb"
      }
    },
    {
      "cell_type": "code",
      "execution_count": null,
      "metadata": {
        "id": "KSa5p7jj2kE2"
      },
      "outputs": [],
      "source": [
        "stars_exploded = movie_drop2.explode('stars')\n",
        "# Let's do something similar to director\n",
        "stars_20 = stars_exploded['stars'].value_counts()[:20].index.tolist()\n",
        "# Let's take the top 20 stars instead of just 10\n",
        "def top_stars(stars):\n",
        "    star_list = []\n",
        "    for star in stars:\n",
        "        if star in stars_20:\n",
        "            star_list.append(star)\n",
        "    return star_list\n",
        "# Create a function to select top stars and create new columns\n",
        "# This will let us create dummy variables just for top stars\n",
        "movie_drop2['top stars'] = movie_drop2['stars'].apply(lambda x: top_stars(x))\n",
        "stars_df = pd.get_dummies(movie_drop2['top stars'].apply(pd.Series).stack()).sum()\n",
        "star_model = pd.concat([df_dir_model, stars_df[stars_20]], axis=1)\n",
        "star_model.replace(np.nan,0,inplace=True)"
      ]
    },
    {
      "cell_type": "markdown",
      "source": [
        "Feature: Production Company"
      ],
      "metadata": {
        "id": "muwh29E5UWt_"
      }
    },
    {
      "cell_type": "code",
      "execution_count": null,
      "metadata": {
        "id": "BsQv_wsC2qrh"
      },
      "outputs": [],
      "source": [
        "prod_exploded = movie_drop2.explode('production companies')\n",
        "# You know the drill\n",
        "prod_15 = prod_exploded['production companies'].value_counts()[:15].index.tolist()\n",
        "movie_drop2.loc[movie_drop2['production companies'].isnull(),'production companies'] = movie_drop2.loc[movie_drop2['production companies'].isnull(),'production companies'].apply(lambda x: [])\n",
        "def top_prod(comp):\n",
        "    comp_list = []\n",
        "    for co in comp:\n",
        "        if co in prod_15:\n",
        "            comp_list.append(co)\n",
        "    return comp_list\n",
        "movie_drop2['top prod co.'] = movie_drop2['production companies'].apply(lambda x: top_prod(x))\n",
        "prod_df = pd.get_dummies(movie_drop2['top prod co.'].apply(pd.Series).stack()).sum()\n",
        "prod_model = pd.concat([star_model, prod_df[prod_15]], axis=1)\n",
        "prod_model.replace(np.nan,0,inplace=True)"
      ]
    },
    {
      "cell_type": "markdown",
      "source": [
        "Feature: Years since release"
      ],
      "metadata": {
        "id": "bNidulSQUZeH"
      }
    },
    {
      "cell_type": "code",
      "execution_count": null,
      "metadata": {
        "id": "eDWxXh9-2wq6"
      },
      "outputs": [],
      "source": [
        "date = pd.to_datetime(datetime.now().date())\n",
        "movie_drop2['years since release'] = movie_drop2['release date'].apply(lambda x: (((date-pd.to_datetime(x))).days/ 365.25))\n",
        "prod_model['years since release'] = movie_drop2['years since release']\n",
        "prod_model = prod_model.drop(['director','stars','release date','production companies'],axis=1)\n"
      ]
    },
    {
      "cell_type": "markdown",
      "source": [
        "Create the classes for movie rating: 0-4 rating class 1, 4-7 rating class 2, 7-10 rating class 3."
      ],
      "metadata": {
        "id": "_LT1BGBiUb0O"
      }
    },
    {
      "cell_type": "code",
      "execution_count": null,
      "metadata": {
        "id": "_odKu7-A21Db"
      },
      "outputs": [],
      "source": [
        "criteria = [prod_model['imdb rating'].between(0, 4), prod_model['imdb rating'].between(4, 7), prod_model['imdb rating'].between(7, 10)]\n",
        "values = [1, 2,3]\n",
        "prod_model['target'] = np.select(criteria, values, 0)\n",
        "prod_model.tail()\n",
        "prod_model = prod_model.drop('imdb rating',axis=1)"
      ]
    },
    {
      "cell_type": "markdown",
      "source": [
        "Create X_train, X_test, y_train, y_test"
      ],
      "metadata": {
        "id": "cCV6T-k1UekQ"
      }
    },
    {
      "cell_type": "code",
      "execution_count": null,
      "metadata": {
        "id": "G_IPZBqg28DV"
      },
      "outputs": [],
      "source": [
        "X, y = prod_model.iloc[:,1:73], prod_model['target']\n",
        "cols = list(X.columns)\n",
        "X_train, X_test, y_train, y_test = train_test_split(X, y, test_size=.2, random_state=20)"
      ]
    },
    {
      "cell_type": "markdown",
      "source": [
        "Define all the classifiers"
      ],
      "metadata": {
        "id": "T922uTOUUg5K"
      }
    },
    {
      "cell_type": "code",
      "execution_count": null,
      "metadata": {
        "id": "LoPIFFRL2_qs"
      },
      "outputs": [],
      "source": [
        "rf = RandomForestClassifier(n_estimators=1000)\n",
        "KNN = KNeighborsClassifier()\n",
        "Extra = ExtraTreesClassifier()\n",
        "GD = GradientBoostingClassifier()"
      ]
    },
    {
      "cell_type": "markdown",
      "source": [
        "Using ensembler learning via voting classifier"
      ],
      "metadata": {
        "id": "Ae-HqR4QUjuM"
      }
    },
    {
      "cell_type": "code",
      "execution_count": null,
      "metadata": {
        "id": "vEKfYh5k3soU"
      },
      "outputs": [],
      "source": [
        "from sklearn.ensemble import VotingClassifier\n",
        "#create a dictionary of our models\n",
        "estimators=[(\"KNN\", KNN), (\"rf\", rf), (\"Extra\", Extra),(\"GD\",GD)]\n",
        "#create our voting classifier, inputting our models\n",
        "ensemble = VotingClassifier(estimators, voting=\"hard\")"
      ]
    },
    {
      "cell_type": "markdown",
      "source": [
        "Dropping the null value columns"
      ],
      "metadata": {
        "id": "eBiGaGY8UsMI"
      }
    },
    {
      "cell_type": "code",
      "execution_count": null,
      "metadata": {
        "colab": {
          "base_uri": "https://localhost:8080/"
        },
        "id": "kQNdqiGn4Q1m",
        "outputId": "fd4d2bd9-cad2-4f01-dc7a-715b97fd5f32"
      },
      "outputs": [
        {
          "name": "stdout",
          "output_type": "stream",
          "text": [
            "Model score on test data:  0.9940119760479041\n"
          ]
        }
      ],
      "source": [
        "# Drop rows with NaN values from train and test dataframes\n",
        "X_train_dropped = X_train.dropna()\n",
        "y_train_dropped = y_train[X_train_dropped.index]\n",
        "X_test_dropped = X_test.dropna()\n",
        "y_test_dropped = y_test[X_test_dropped.index]\n",
        "\n",
        "# Converting column names to strings after operations like dropping NaN values\n",
        "X_train_dropped.columns = X_train_dropped.columns.astype(str)\n",
        "X_test_dropped.columns = X_test_dropped.columns.astype(str)\n",
        "\n",
        "# Fit and score the ensemble model\n",
        "ensemble.fit(X_train_dropped, y_train_dropped)\n",
        "print(\"Model score on test data: \", ensemble.score(X_test_dropped, y_test_dropped))\n",
        "\n"
      ]
    },
    {
      "cell_type": "markdown",
      "source": [
        "Other metrics"
      ],
      "metadata": {
        "id": "LSrD5h1xUyuq"
      }
    },
    {
      "cell_type": "code",
      "execution_count": null,
      "metadata": {
        "colab": {
          "base_uri": "https://localhost:8080/"
        },
        "id": "j--jnMRG7JLp",
        "outputId": "cd801dba-4897-4240-8cb9-5af3f47699e0"
      },
      "outputs": [
        {
          "name": "stdout",
          "output_type": "stream",
          "text": [
            "Accuracy: 0.9940119760479041\n",
            "Precision: 0.997245179063361\n",
            "Recall: 0.9166666666666666\n",
            "F1 Score: 0.9509978265164988\n",
            "              precision    recall  f1-score   support\n",
            "\n",
            "           1       1.00      0.75      0.86         4\n",
            "           2       0.99      1.00      1.00       120\n",
            "           3       1.00      1.00      1.00        43\n",
            "\n",
            "    accuracy                           0.99       167\n",
            "   macro avg       1.00      0.92      0.95       167\n",
            "weighted avg       0.99      0.99      0.99       167\n",
            "\n",
            "Confusion Matrix:\n",
            "[[  3   1   0]\n",
            " [  0 120   0]\n",
            " [  0   0  43]]\n"
          ]
        }
      ],
      "source": [
        "from sklearn.metrics import classification_report, confusion_matrix, accuracy_score\n",
        "from sklearn.metrics import precision_score, recall_score, f1_score\n",
        "\n",
        "# Assuming 'ensemble' is your trained model and X_test_dropped is your processed test set\n",
        "y_pred = ensemble.predict(X_test_dropped)\n",
        "\n",
        "accuracy = accuracy_score(y_test_dropped, y_pred)\n",
        "print(f\"Accuracy: {accuracy}\")\n",
        "\n",
        "# Individual metrics\n",
        "precision = precision_score(y_test_dropped, y_pred, average='macro')  # You can change average to 'micro', 'macro', 'weighted' or None\n",
        "recall = recall_score(y_test_dropped, y_pred, average='macro')\n",
        "f1 = f1_score(y_test_dropped, y_pred, average='macro')\n",
        "\n",
        "print(f\"Precision: {precision}\")\n",
        "print(f\"Recall: {recall}\")\n",
        "print(f\"F1 Score: {f1}\")\n",
        "\n",
        "# Using classification_report to get all metrics, including support per class\n",
        "report = classification_report(y_test_dropped, y_pred)\n",
        "print(report)\n",
        "\n",
        "conf_matrix = confusion_matrix(y_test_dropped, y_pred)\n",
        "print(\"Confusion Matrix:\")\n",
        "print(conf_matrix)\n"
      ]
    },
    {
      "cell_type": "markdown",
      "source": [
        "Plotting of accuracies"
      ],
      "metadata": {
        "id": "CY2kNlytU1e6"
      }
    },
    {
      "cell_type": "code",
      "execution_count": null,
      "metadata": {
        "colab": {
          "base_uri": "https://localhost:8080/",
          "height": 564
        },
        "id": "g5Lq12o0z5LM",
        "outputId": "edc8dcdc-d34d-43f5-c167-f367f0652075"
      },
      "outputs": [
        {
          "data": {
            "image/png": "[encoded data removed]",
            "text/plain": [
              "<Figure size 1000x600 with 1 Axes>"
            ]
          },
          "metadata": {},
          "output_type": "display_data"
        }
      ],
      "source": [
        "import matplotlib.pyplot as plt\n",
        "\n",
        "accuracy = ['Gradient Boosting','KNN','Random Forest','Extra Trees','Ensemble Learning']\n",
        "values = [75.3,65.1,82.5,77.1,98.8]\n",
        "plt.figure(figsize=(10,6))\n",
        "plt.bar(accuracy, values)\n",
        "# Displaying the bar plot\n",
        "plt.xlabel('Classification algorithm')\n",
        "plt.ylabel('Accuracy%')\n",
        "plt.title('Comparison between different algorithms accuracy')\n",
        "plt.show()"
      ]
    },
    {
      "cell_type": "markdown",
      "source": [
        "Varying testsizes"
      ],
      "metadata": {
        "id": "PZ0B6midU4lV"
      }
    },
    {
      "cell_type": "code",
      "execution_count": null,
      "metadata": {
        "colab": {
          "base_uri": "https://localhost:8080/",
          "height": 655
        },
        "id": "i4QaS2S6nY0I",
        "outputId": "6e482c59-8d3f-4b4c-8d67-ce3164d66fca"
      },
      "outputs": [
        {
          "name": "stdout",
          "output_type": "stream",
          "text": [
            "Test size: 0.1, Accuracy: 1.0000\n",
            "Test size: 0.2, Accuracy: 0.9880\n",
            "Test size: 0.3, Accuracy: 0.9880\n",
            "Test size: 0.4, Accuracy: 0.9850\n",
            "Test size: 0.5, Accuracy: 0.9880\n"
          ]
        },
        {
          "data": {
            "image/png": "[encoded data removed]",
            "text/plain": [
              "<Figure size 1000x600 with 1 Axes>"
            ]
          },
          "metadata": {},
          "output_type": "display_data"
        }
      ],
      "source": [
        "# Assuming 'prod_model' is preloaded with data\n",
        "X, y = prod_model.iloc[:, 1:73], prod_model['target']\n",
        "cols = list(X.columns)\n",
        "\n",
        "# Define different test sizes\n",
        "test_sizes = [0.1, 0.2, 0.3, 0.4, 0.5]\n",
        "accuracies = []\n",
        "\n",
        "+\n",
        "# Define estimators for VotingClassifier\n",
        "estimators = [(\"KNN\", KNN), (\"rf\", rf), (\"Extra\", Extra), (\"GD\", GD)]\n",
        "ensemble = VotingClassifier(estimators, voting=\"hard\")\n",
        "\n",
        "for test_size in test_sizes:\n",
        "    # Split the data\n",
        "    X_train, X_test, y_train, y_test = train_test_split(X, y, test_size=test_size, random_state=20)\n",
        "\n",
        "    # Drop rows with NaN values from train and test dataframes\n",
        "    X_train_dropped = X_train.dropna()\n",
        "    y_train_dropped = y_train[X_train_dropped.index]\n",
        "    X_test_dropped = X_test.dropna()\n",
        "    y_test_dropped = y_test[X_test_dropped.index]\n",
        "\n",
        "    # Converting column names to strings\n",
        "    X_train_dropped.columns = X_train_dropped.columns.astype(str)\n",
        "    X_test_dropped.columns = X_test_dropped.columns.astype(str)\n",
        "\n",
        "    # Fit and score the ensemble model\n",
        "    ensemble.fit(X_train_dropped, y_train_dropped)\n",
        "    accuracy = ensemble.score(X_test_dropped, y_test_dropped)\n",
        "    accuracies.append(accuracy)\n",
        "    print(f\"Test size: {test_size}, Accuracy: {accuracy:.4f}\")\n",
        "\n",
        "# Plotting the results\n",
        "plt.figure(figsize=(10, 6))\n",
        "plt.plot(test_sizes, accuracies, marker='o')\n",
        "plt.title('Model Accuracy vs. Test Size')\n",
        "plt.xlabel('Test Size')\n",
        "plt.ylabel('Accuracy')\n",
        "plt.grid(True)\n",
        "plt.show()\n"
      ]
    },
    {
      "cell_type": "markdown",
      "source": [
        "Correlation coefficient"
      ],
      "metadata": {
        "id": "Z2T2v46CU71Z"
      }
    },
    {
      "cell_type": "code",
      "execution_count": null,
      "metadata": {
        "colab": {
          "base_uri": "https://localhost:8080/",
          "height": 1000
        },
        "id": "u4nyqJrBwV9n",
        "outputId": "3b46f6b4-bf3d-42df-db82-5596de7d6f6a"
      },
      "outputs": [
        {
          "name": "stdout",
          "output_type": "stream",
          "text": [
            "movie title                0\n",
            "imdb rating              407\n",
            "imdb raters              407\n",
            "mpaa                    3974\n",
            "genres                     8\n",
            "director                  10\n",
            "writer                    32\n",
            "stars                    204\n",
            "country                    0\n",
            "language                   0\n",
            "release date             728\n",
            "budget                  5365\n",
            "opening weekend         6571\n",
            "gross usa               6477\n",
            "cumulative worldwide    5904\n",
            "production companies     720\n",
            "runtime (min)            735\n",
            "dtype: int64\n",
            "                      imdb rating  imdb raters    budget  opening weekend  \\\n",
            "imdb rating              1.000000     0.587997  0.280039         0.274605   \n",
            "imdb raters              0.587997     1.000000  0.467866         0.485493   \n",
            "budget                   0.280039     0.467866  1.000000         0.772861   \n",
            "opening weekend          0.274605     0.485493  0.772861         1.000000   \n",
            "gross usa                0.386920     0.596113  0.762625         0.946347   \n",
            "cumulative worldwide     0.365457     0.575600  0.806548         0.933881   \n",
            "runtime (min)            0.515655     0.520171  0.414629         0.343137   \n",
            "\n",
            "                      gross usa  cumulative worldwide  runtime (min)  \n",
            "imdb rating            0.386920              0.365457       0.515655  \n",
            "imdb raters            0.596113              0.575600       0.520171  \n",
            "budget                 0.762625              0.806548       0.414629  \n",
            "opening weekend        0.946347              0.933881       0.343137  \n",
            "gross usa              1.000000              0.960175       0.375309  \n",
            "cumulative worldwide   0.960175              1.000000       0.392224  \n",
            "runtime (min)          0.375309              0.392224       1.000000  \n"
          ]
        },
        {
          "data": {
            "image/png": "[encoded data removed]",
            "text/plain": [
              "<Figure size 1000x800 with 2 Axes>"
            ]
          },
          "metadata": {},
          "output_type": "display_data"
        }
      ],
      "source": [
        "data = pd.concat([movies_8000,df1,df2])\n",
        "# Check for missing values\n",
        "print(data.isnull().sum())\n",
        "\n",
        "# For simplicity, drop rows with any missing values in the columns of interest\n",
        "data.dropna(subset=['imdb rating', 'imdb raters', 'budget', 'opening weekend', 'gross usa', 'cumulative worldwide', 'runtime (min)'], inplace=True)\n",
        "\n",
        "# Convert relevant fields to appropriate data types if necessary\n",
        "data['budget'] = pd.to_numeric(data['budget'], errors='coerce')\n",
        "data['opening weekend'] = pd.to_numeric(data['opening weekend'], errors='coerce')\n",
        "data['gross usa'] = pd.to_numeric(data['gross usa'], errors='coerce')\n",
        "data['cumulative worldwide'] = pd.to_numeric(data['cumulative worldwide'], errors='coerce')\n",
        "data['runtime (min)'] = pd.to_numeric(data['runtime (min)'], errors='coerce')\n",
        "\n",
        "\n",
        "# Compute the correlation matrix for selected features\n",
        "correlation_matrix = data[['imdb rating', 'imdb raters', 'budget', 'opening weekend', 'gross usa', 'cumulative worldwide', 'runtime (min)']].corr()\n",
        "print(correlation_matrix)\n",
        "\n",
        "import seaborn as sns\n",
        "import matplotlib.pyplot as plt\n",
        "\n",
        "# Plotting the correlation matrix as a heatmap\n",
        "plt.figure(figsize=(10, 8))\n",
        "sns.heatmap(correlation_matrix, annot=True, cmap='coolwarm', fmt=\".2f\")\n",
        "plt.title('Correlation Matrix of IMDb Ratings and Other Numerical Features')\n",
        "plt.show()\n"
      ]
    },
    {
      "cell_type": "code",
      "execution_count": null,
      "metadata": {
        "id": "6-TJU41g9rAh"
      },
      "outputs": [],
      "source": [
        "\n",
        "\n",
        "\n",
        "\n",
        "\n",
        "# Individual metrics\n",
        "precision = precision_score(y_test_dropped, y_pred, average='macro')  # You can change average to 'micro', 'macro', 'weighted' or None\n",
        "recall = recall_score(y_test_dropped, y_pred, average='macro')\n",
        "f1 = f1_score(y_test_dropped, y_pred, average='macro')\n",
        "\n",
        "print(f\"Precision: {precision}\")\n",
        "print(f\"Recall: {recall}\")\n",
        "print(f\"F1 Score: {f1}\")\n",
        "\n",
        "# Using classification_report to get all metrics, including support per class\n",
        "report = classification_report(y_test_dropped, y_pred)\n",
        "print(report)\n",
        "\n",
        "conf_matrix = confusion_matrix(y_test_dropped, y_pred)\n",
        "print(\"Confusion Matrix:\")\n",
        "print(conf_matrix)"
      ]
    },
    {
      "cell_type": "code",
      "execution_count": null,
      "metadata": {
        "colab": {
          "background_save": true,
          "base_uri": "https://localhost:8080/",
          "height": 655
        },
        "id": "AwW6TPKx9ysm",
        "outputId": "f8456399-66b7-4acf-cde2-ca154f2dc19d"
      },
      "outputs": [
        {
          "ename": "NameError",
          "evalue": "name 'prod_model' is not defined",
          "output_type": "error",
          "traceback": [
            "\u001b[0;31m---------------------------------------------------------------------------\u001b[0m",
            "\u001b[0;31mNameError\u001b[0m                                 Traceback (most recent call last)",
            "\u001b[0;32m<ipython-input-1-7b67bf2332ab>\u001b[0m in \u001b[0;36m<cell line: 2>\u001b[0;34m()\u001b[0m\n\u001b[1;32m      1\u001b[0m \u001b[0;31m# Assuming 'prod_model' is preloaded with data\u001b[0m\u001b[0;34m\u001b[0m\u001b[0;34m\u001b[0m\u001b[0m\n\u001b[0;32m----> 2\u001b[0;31m \u001b[0mX\u001b[0m\u001b[0;34m,\u001b[0m \u001b[0my\u001b[0m \u001b[0;34m=\u001b[0m \u001b[0mprod_model\u001b[0m\u001b[0;34m.\u001b[0m\u001b[0miloc\u001b[0m\u001b[0;34m[\u001b[0m\u001b[0;34m:\u001b[0m\u001b[0;34m,\u001b[0m \u001b[0;36m1\u001b[0m\u001b[0;34m:\u001b[0m\u001b[0;36m73\u001b[0m\u001b[0;34m]\u001b[0m\u001b[0;34m,\u001b[0m \u001b[0mprod_model\u001b[0m\u001b[0;34m[\u001b[0m\u001b[0;34m'target'\u001b[0m\u001b[0;34m]\u001b[0m\u001b[0;34m\u001b[0m\u001b[0;34m\u001b[0m\u001b[0m\n\u001b[0m\u001b[1;32m      3\u001b[0m \u001b[0mcols\u001b[0m \u001b[0;34m=\u001b[0m \u001b[0mlist\u001b[0m\u001b[0;34m(\u001b[0m\u001b[0mX\u001b[0m\u001b[0;34m.\u001b[0m\u001b[0mcolumns\u001b[0m\u001b[0;34m)\u001b[0m\u001b[0;34m\u001b[0m\u001b[0;34m\u001b[0m\u001b[0m\n\u001b[1;32m      4\u001b[0m \u001b[0;34m\u001b[0m\u001b[0m\n\u001b[1;32m      5\u001b[0m \u001b[0;31m# Define different test sizes\u001b[0m\u001b[0;34m\u001b[0m\u001b[0;34m\u001b[0m\u001b[0m\n",
            "\u001b[0;31mNameError\u001b[0m: name 'prod_model' is not defined"
          ]
        }
      ],
      "source": [
        "# Assuming 'prod_model' is preloaded with data\n",
        "X, y = prod_model.iloc[:, 1:73], prod_model['target']\n",
        "cols = list(X.columns)\n",
        "\n",
        "# Define different test sizes\n",
        "test_sizes = [0.1, 0.2, 0.3, 0.4, 0.5]\n",
        "accuracies = []\n",
        "\n",
        "# Define estimators for VotingClassifier\n",
        "estimators = [(\"KNN\", KNN), (\"rf\", rf), (\"Extra\", Extra), (\"GD\", GD)]\n",
        "ensemble = VotingClassifier(estimators, voting=\"hard\")\n",
        "\n",
        "for test_size in test_sizes:\n",
        "    # Split the data\n",
        "    X_train, X_test, y_train, y_test = train_test_split(X, y, test_size=test_size, random_state=20)\n",
        "\n",
        "    # Drop rows with NaN values from train and test dataframes\n",
        "    X_train_dropped = X_train.dropna()\n",
        "    y_train_dropped = y_train[X_train_dropped.index]\n",
        "    X_test_dropped = X_test.dropna()\n",
        "    y_test_dropped = y_test[X_test_dropped.index]\n",
        "\n",
        "    # Converting column names to strings\n",
        "    X_train_dropped.columns = X_train_dropped.columns.astype(str)\n",
        "    X_test_dropped.columns = X_test_dropped.columns.astype(str)\n",
        "\n",
        "    # Fit and score the ensemble model\n",
        "    ensemble.fit(X_train_dropped, y_train_dropped)\n",
        "    accuracy = ensemble.score(X_test_dropped, y_test_dropped)\n",
        "    accuracies.append(accuracy)\n",
        "    print(f\"Test size: {test_size}, Accuracy: {accuracy:.4f}\")\n",
        "\n"
      ]
    }
  ],
  "metadata": {
    "colab": {
      "provenance": []
    },
    "kernelspec": {
      "display_name": "Python 3",
      "name": "python3"
    },
    "language_info": {
      "name": "python"
    }
  },
  "nbformat": 4,
  "nbformat_minor": 0
}